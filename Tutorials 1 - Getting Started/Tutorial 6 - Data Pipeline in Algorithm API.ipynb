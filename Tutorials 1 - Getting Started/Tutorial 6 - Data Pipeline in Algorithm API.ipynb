{
 "cells": [
  {
   "cell_type": "markdown",
   "metadata": {},
   "source": [
    "The code in this notebook is supposed to be run in the Algorithm API. This code will download the pipeline data for our factors. The main distinction between the Research Notebook and the Algorithm API is that during the backtest simulation, the pipeline will be executed each day. Therefore there wont be any start date and end date arguments."
   ]
  },
  {
   "cell_type": "markdown",
   "metadata": {},
   "source": [
    "Lets look at the whole script."
   ]
  },
  {
   "cell_type": "code",
   "execution_count": null,
   "metadata": {},
   "outputs": [],
   "source": [
    "import quantopian.algorithm as algo\n",
    "\n",
    "\n",
    "def initialize(context):\n",
    "    \n",
    "    algo.attach_pipeline(\n",
    "    \n",
    "        make_pipeline(), 'data_pipe'\n",
    "    )\n",
    "    \n",
    "    algo.schedule_function(\n",
    "        \n",
    "        rebalance,\n",
    "        date_rule = algo.date_rules.week_start(),\n",
    "        time_rule = algo.time_rules.market_open()\n",
    "    )\n",
    "    \n",
    "def before_trading_start(context,data):\n",
    "    \n",
    "    context.pipeline_data = algo.pipeline_output(\n",
    "    \n",
    "        'data_pipe'\n",
    "    )\n",
    "    \n",
    "\n",
    "def rebalance(context,data):\n",
    "    \n",
    "    log.info(context.pipeline_data.head(10))\n",
    "\n",
    "\n",
    "    \n",
    "def make_pipeline():\n",
    "    \n",
    "    base_universe = QTradableStocksUS()\n",
    "\n",
    "    sentiment_score = SimpleMovingAverage(\n",
    "        inputs=[stocktwits.bull_minus_bear],\n",
    "        window_length=3,\n",
    "    )\n",
    "\n",
    "    return Pipeline(\n",
    "        columns={\n",
    "            'sentiment_score': sentiment_score,\n",
    "        },\n",
    "        screen=(\n",
    "            base_universe\n",
    "            & sentiment_score.notnull()\n",
    "        )\n",
    "    )\n",
    "    \n",
    "    \n",
    "    "
   ]
  },
  {
   "cell_type": "markdown",
   "metadata": {},
   "source": [
    "The above algorithm will select a universe of assets each day and output an alpha score which can be used for asset allocation in the portfolio. The above algo is incomplete, since we have not specified what to buy/sell. We will learn that in the next tutorial."
   ]
  }
 ],
 "metadata": {
  "kernelspec": {
   "display_name": "Python 3.5",
   "language": "python",
   "name": "py35"
  },
  "language_info": {
   "codemirror_mode": {
    "name": "ipython",
    "version": 3
   },
   "file_extension": ".py",
   "mimetype": "text/x-python",
   "name": "python",
   "nbconvert_exporter": "python",
   "pygments_lexer": "ipython3",
   "version": "3.5.9"
  }
 },
 "nbformat": 4,
 "nbformat_minor": 2
}