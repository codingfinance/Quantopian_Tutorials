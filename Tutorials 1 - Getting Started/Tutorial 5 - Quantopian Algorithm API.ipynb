{
 "cells": [
  {
   "cell_type": "markdown",
   "metadata": {},
   "source": [
    "Quantopian Algorithms are not run in the Jupyter notebook environment. They should be run in the separate Quantopian Algorithm Platform. But below we will write a python script that can be easily copied and pasted in the Algorithm API."
   ]
  },
  {
   "cell_type": "markdown",
   "metadata": {},
   "source": [
    "The below script will run a daily. It will at the beginning of each week it will output a message \"Time to place some trades!\""
   ]
  },
  {
   "cell_type": "code",
   "execution_count": null,
   "metadata": {},
   "outputs": [],
   "source": [
    "# Import Algorithm API\n",
    "import quantopian.algorithm as algo\n",
    "\n",
    "\n",
    "def initialize(context):\n",
    "    # Initialize algorithm parameters\n",
    "    context.day_count = 0\n",
    "    context.daily_message = \"Day {}.\"\n",
    "    context.weekly_message = \"Time to place some trades!\"\n",
    "\n",
    "    # Schedule rebalance function\n",
    "    algo.schedule_function(\n",
    "        rebalance,\n",
    "        date_rule=algo.date_rules.week_start(),\n",
    "        time_rule=algo.time_rules.market_open()\n",
    "    )\n",
    "\n",
    "\n",
    "def before_trading_start(context, data):\n",
    "    # Execute any daily actions that need to happen\n",
    "    # before the start of a trading session\n",
    "    context.day_count += 1\n",
    "    log.info(context.daily_message, context.day_count)\n",
    "\n",
    "\n",
    "def rebalance(context, data):\n",
    "    # Execute rebalance logic\n",
    "    log.info(context.weekly_message)"
   ]
  },
  {
   "cell_type": "markdown",
   "metadata": {},
   "source": [
    "In general we will be using the above skeleton to run our backtests in the Algorithm API."
   ]
  },
  {
   "cell_type": "code",
   "execution_count": null,
   "metadata": {},
   "outputs": [],
   "source": []
  }
 ],
 "metadata": {
  "kernelspec": {
   "display_name": "Python 2.7 (deprecated)",
   "language": "python",
   "name": "python2"
  },
  "language_info": {
   "codemirror_mode": {
    "name": "ipython",
    "version": 2
   },
   "file_extension": ".py",
   "mimetype": "text/x-python",
   "name": "python",
   "nbconvert_exporter": "python",
   "pygments_lexer": "ipython2",
   "version": "2.7.17"
  }
 },
 "nbformat": 4,
 "nbformat_minor": 2
}