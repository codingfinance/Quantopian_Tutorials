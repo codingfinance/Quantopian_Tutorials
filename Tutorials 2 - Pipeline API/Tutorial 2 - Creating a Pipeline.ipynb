{
 "cells": [
  {
   "cell_type": "markdown",
   "metadata": {},
   "source": [
    "Creating an empty Pipeline"
   ]
  },
  {
   "cell_type": "code",
   "execution_count": 1,
   "metadata": {},
   "outputs": [],
   "source": [
    "from quantopian.pipeline import Pipeline\n",
    "\n",
    "def make_pipeline():\n",
    "    \n",
    "    return Pipeline()\n"
   ]
  },
  {
   "cell_type": "markdown",
   "metadata": {},
   "source": [
    "In the above cell we have created an empty pipeline. This pipeline does not do anything unless we call the `run_pipeline` funtion on it. Lets do that now."
   ]
  },
  {
   "cell_type": "code",
   "execution_count": 2,
   "metadata": {},
   "outputs": [],
   "source": [
    "from quantopian.research import run_pipeline"
   ]
  },
  {
   "cell_type": "code",
   "execution_count": 5,
   "metadata": {},
   "outputs": [
    {
     "data": {
      "application/vnd.jupyter.widget-view+json": {
       "model_id": "",
       "version_major": 2,
       "version_minor": 0
      },
      "text/plain": []
     },
     "metadata": {},
     "output_type": "display_data"
    },
    {
     "data": {
      "text/html": [
       "<b>Pipeline Execution Time:</b> 0.02 Seconds"
      ],
      "text/plain": [
       "<IPython.core.display.HTML object>"
      ]
     },
     "metadata": {},
     "output_type": "display_data"
    }
   ],
   "source": [
    "# Give the dates\n",
    "start = '2016-1-11'\n",
    "end = '2016-1-11'\n",
    "\n",
    "output = run_pipeline(make_pipeline(),\n",
    "                     start,\n",
    "                     end)"
   ]
  },
  {
   "cell_type": "code",
   "execution_count": 6,
   "metadata": {},
   "outputs": [
    {
     "data": {
      "text/html": [
       "<div>\n",
       "<table border=\"1\" class=\"dataframe\">\n",
       "  <thead>\n",
       "    <tr style=\"text-align: right;\">\n",
       "      <th></th>\n",
       "      <th></th>\n",
       "    </tr>\n",
       "  </thead>\n",
       "  <tbody>\n",
       "    <tr>\n",
       "      <th rowspan=\"5\" valign=\"top\">2016-01-11 00:00:00+00:00</th>\n",
       "      <th>Equity(2 [ARNC])</th>\n",
       "    </tr>\n",
       "    <tr>\n",
       "      <th>Equity(21 [AAME])</th>\n",
       "    </tr>\n",
       "    <tr>\n",
       "      <th>Equity(24 [AAPL])</th>\n",
       "    </tr>\n",
       "    <tr>\n",
       "      <th>Equity(25 [ARNC_PR])</th>\n",
       "    </tr>\n",
       "    <tr>\n",
       "      <th>Equity(31 [ABAX])</th>\n",
       "    </tr>\n",
       "  </tbody>\n",
       "</table>\n",
       "</div>"
      ],
      "text/plain": [
       "Empty DataFrame\n",
       "Columns: []\n",
       "Index: [(2016-01-11 00:00:00+00:00, Equity(2 [ARNC])), (2016-01-11 00:00:00+00:00, Equity(21 [AAME])), (2016-01-11 00:00:00+00:00, Equity(24 [AAPL])), (2016-01-11 00:00:00+00:00, Equity(25 [ARNC_PR])), (2016-01-11 00:00:00+00:00, Equity(31 [ABAX]))]"
      ]
     },
     "execution_count": 6,
     "metadata": {},
     "output_type": "execute_result"
    }
   ],
   "source": [
    "output.head()"
   ]
  },
  {
   "cell_type": "markdown",
   "metadata": {},
   "source": [
    "We have just run an empty pipeline, that returns an empty dataframe with the stock symbols. We can count the list of symbols."
   ]
  },
  {
   "cell_type": "code",
   "execution_count": 11,
   "metadata": {},
   "outputs": [
    {
     "data": {
      "text/plain": [
       "8401"
      ]
     },
     "execution_count": 11,
     "metadata": {},
     "output_type": "execute_result"
    }
   ],
   "source": [
    "symbol_list = output.index.levels[1].unique().tolist()\n",
    "len(symbol_list)"
   ]
  },
  {
   "cell_type": "markdown",
   "metadata": {},
   "source": [
    "The empty dataframe has 8401 symbols."
   ]
  },
  {
   "cell_type": "markdown",
   "metadata": {},
   "source": [
    "Next we will learn how to get data into the pipeline."
   ]
  },
  {
   "cell_type": "code",
   "execution_count": null,
   "metadata": {},
   "outputs": [],
   "source": []
  }
 ],
 "metadata": {
  "kernelspec": {
   "display_name": "Python 2.7 (deprecated)",
   "language": "python",
   "name": "python2"
  },
  "language_info": {
   "codemirror_mode": {
    "name": "ipython",
    "version": 2
   },
   "file_extension": ".py",
   "mimetype": "text/x-python",
   "name": "python",
   "nbconvert_exporter": "python",
   "pygments_lexer": "ipython2",
   "version": "2.7.17"
  }
 },
 "nbformat": 4,
 "nbformat_minor": 2
}