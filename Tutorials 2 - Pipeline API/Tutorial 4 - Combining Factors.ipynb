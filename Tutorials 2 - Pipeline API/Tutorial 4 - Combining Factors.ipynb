{
 "cells": [
  {
   "cell_type": "markdown",
   "metadata": {},
   "source": [
    "Many times we have a need to combine factors and generate a new factor. We can easily do this in Quantopian."
   ]
  },
  {
   "cell_type": "markdown",
   "metadata": {},
   "source": [
    "Suppose we have two factors 10 day moving average and 20 day moving average and we want to find the difference between the price of these two factors we can do this in our pipeline and output the results."
   ]
  },
  {
   "cell_type": "markdown",
   "metadata": {},
   "source": [
    "First lets import the libraries"
   ]
  },
  {
   "cell_type": "code",
   "execution_count": 1,
   "metadata": {},
   "outputs": [],
   "source": [
    "from quantopian.pipeline import Pipeline\n",
    "from quantopian.pipeline.factors import SimpleMovingAverage\n",
    "from quantopian.pipeline.data import USEquityPricing\n",
    "from quantopian.research import run_pipeline"
   ]
  },
  {
   "cell_type": "code",
   "execution_count": 3,
   "metadata": {},
   "outputs": [],
   "source": [
    "def make_pipeline():\n",
    "    \n",
    "    mean_close_10 = SimpleMovingAverage(\n",
    "    \n",
    "        inputs = [USEquityPricing.close],\n",
    "        window_length = 10\n",
    "    )\n",
    "    \n",
    "    mean_close_30 = SimpleMovingAverage(\n",
    "    \n",
    "        inputs = [USEquityPricing.close],\n",
    "        window_length = 30\n",
    "    )\n",
    "    \n",
    "    percent_diff = (mean_close_10 - mean_close_30) / mean_close_30\n",
    "    \n",
    "    return Pipeline(\n",
    "    \n",
    "        columns = {\n",
    "            \n",
    "            'mean_close_10':mean_close_10,\n",
    "            'mean_close_30':mean_close_30,\n",
    "            'percent_diff':percent_diff\n",
    "            \n",
    "        }\n",
    "    )\n",
    "    \n",
    "    "
   ]
  },
  {
   "cell_type": "code",
   "execution_count": 4,
   "metadata": {},
   "outputs": [
    {
     "data": {
      "application/vnd.jupyter.widget-view+json": {
       "model_id": "",
       "version_major": 2,
       "version_minor": 0
      },
      "text/plain": []
     },
     "metadata": {},
     "output_type": "display_data"
    },
    {
     "data": {
      "text/html": [
       "<b>Pipeline Execution Time:</b> 20.23 Seconds"
      ],
      "text/plain": [
       "<IPython.core.display.HTML object>"
      ]
     },
     "metadata": {},
     "output_type": "display_data"
    },
    {
     "data": {
      "text/html": [
       "<div>\n",
       "<table border=\"1\" class=\"dataframe\">\n",
       "  <thead>\n",
       "    <tr style=\"text-align: right;\">\n",
       "      <th></th>\n",
       "      <th></th>\n",
       "      <th>mean_close_10</th>\n",
       "      <th>mean_close_30</th>\n",
       "      <th>percent_diff</th>\n",
       "    </tr>\n",
       "  </thead>\n",
       "  <tbody>\n",
       "    <tr>\n",
       "      <th rowspan=\"10\" valign=\"top\">2016-01-11 00:00:00+00:00</th>\n",
       "      <th>Equity(2 [ARNC])</th>\n",
       "      <td>9.395100</td>\n",
       "      <td>9.278533</td>\n",
       "      <td>0.012563</td>\n",
       "    </tr>\n",
       "    <tr>\n",
       "      <th>Equity(21 [AAME])</th>\n",
       "      <td>4.748000</td>\n",
       "      <td>4.760500</td>\n",
       "      <td>-0.002626</td>\n",
       "    </tr>\n",
       "    <tr>\n",
       "      <th>Equity(24 [AAPL])</th>\n",
       "      <td>103.839000</td>\n",
       "      <td>110.475333</td>\n",
       "      <td>-0.060071</td>\n",
       "    </tr>\n",
       "    <tr>\n",
       "      <th>Equity(25 [ARNC_PR])</th>\n",
       "      <td>84.096667</td>\n",
       "      <td>84.466650</td>\n",
       "      <td>-0.004380</td>\n",
       "    </tr>\n",
       "    <tr>\n",
       "      <th>Equity(31 [ABAX])</th>\n",
       "      <td>55.054000</td>\n",
       "      <td>53.882994</td>\n",
       "      <td>0.021732</td>\n",
       "    </tr>\n",
       "    <tr>\n",
       "      <th>Equity(39 [DDC])</th>\n",
       "      <td>10.105000</td>\n",
       "      <td>8.915800</td>\n",
       "      <td>0.133381</td>\n",
       "    </tr>\n",
       "    <tr>\n",
       "      <th>Equity(41 [ARCB])</th>\n",
       "      <td>20.771000</td>\n",
       "      <td>21.705333</td>\n",
       "      <td>-0.043046</td>\n",
       "    </tr>\n",
       "    <tr>\n",
       "      <th>Equity(52 [ABM])</th>\n",
       "      <td>28.036718</td>\n",
       "      <td>28.606694</td>\n",
       "      <td>-0.019925</td>\n",
       "    </tr>\n",
       "    <tr>\n",
       "      <th>Equity(53 [ABMD])</th>\n",
       "      <td>87.652000</td>\n",
       "      <td>85.259167</td>\n",
       "      <td>0.028065</td>\n",
       "    </tr>\n",
       "    <tr>\n",
       "      <th>Equity(62 [ABT])</th>\n",
       "      <td>43.674000</td>\n",
       "      <td>44.584333</td>\n",
       "      <td>-0.020418</td>\n",
       "    </tr>\n",
       "  </tbody>\n",
       "</table>\n",
       "</div>"
      ],
      "text/plain": [
       "                                                mean_close_10  mean_close_30  \\\n",
       "2016-01-11 00:00:00+00:00 Equity(2 [ARNC])           9.395100       9.278533   \n",
       "                          Equity(21 [AAME])          4.748000       4.760500   \n",
       "                          Equity(24 [AAPL])        103.839000     110.475333   \n",
       "                          Equity(25 [ARNC_PR])      84.096667      84.466650   \n",
       "                          Equity(31 [ABAX])         55.054000      53.882994   \n",
       "                          Equity(39 [DDC])          10.105000       8.915800   \n",
       "                          Equity(41 [ARCB])         20.771000      21.705333   \n",
       "                          Equity(52 [ABM])          28.036718      28.606694   \n",
       "                          Equity(53 [ABMD])         87.652000      85.259167   \n",
       "                          Equity(62 [ABT])          43.674000      44.584333   \n",
       "\n",
       "                                                percent_diff  \n",
       "2016-01-11 00:00:00+00:00 Equity(2 [ARNC])          0.012563  \n",
       "                          Equity(21 [AAME])        -0.002626  \n",
       "                          Equity(24 [AAPL])        -0.060071  \n",
       "                          Equity(25 [ARNC_PR])     -0.004380  \n",
       "                          Equity(31 [ABAX])         0.021732  \n",
       "                          Equity(39 [DDC])          0.133381  \n",
       "                          Equity(41 [ARCB])        -0.043046  \n",
       "                          Equity(52 [ABM])         -0.019925  \n",
       "                          Equity(53 [ABMD])         0.028065  \n",
       "                          Equity(62 [ABT])         -0.020418  "
      ]
     },
     "execution_count": 4,
     "metadata": {},
     "output_type": "execute_result"
    }
   ],
   "source": [
    "output = run_pipeline(make_pipeline(),\n",
    "                     '2016-1-11',\n",
    "                     '2016-1-11')\n",
    "\n",
    "output.head(10)"
   ]
  },
  {
   "cell_type": "markdown",
   "metadata": {},
   "source": [
    "We can see above that the pipeline has correctly added a new column called price difference for the factors."
   ]
  }
 ],
 "metadata": {
  "kernelspec": {
   "display_name": "Python 3.5",
   "language": "python",
   "name": "py35"
  },
  "language_info": {
   "codemirror_mode": {
    "name": "ipython",
    "version": 3
   },
   "file_extension": ".py",
   "mimetype": "text/x-python",
   "name": "python",
   "nbconvert_exporter": "python",
   "pygments_lexer": "ipython3",
   "version": "3.5.9"
  }
 },
 "nbformat": 4,
 "nbformat_minor": 2
}