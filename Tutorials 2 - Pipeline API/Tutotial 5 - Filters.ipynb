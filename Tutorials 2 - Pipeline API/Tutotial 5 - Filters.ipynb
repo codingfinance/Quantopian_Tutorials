{
 "cells": [
  {
   "cell_type": "markdown",
   "metadata": {},
   "source": [
    "## Filters"
   ]
  },
  {
   "cell_type": "markdown",
   "metadata": {},
   "source": [
    "Filters return a boolean value. We can use them as the name suggest to 'filter' our output. For example getting all the stock that trade above \\\\$50."
   ]
  },
  {
   "cell_type": "markdown",
   "metadata": {},
   "source": [
    "Next we will build some filters in our pipeline output."
   ]
  },
  {
   "cell_type": "code",
   "execution_count": 1,
   "metadata": {},
   "outputs": [],
   "source": [
    "from quantopian.pipeline import Pipeline\n",
    "from quantopian.research import run_pipeline\n",
    "from quantopian.pipeline.factors import SimpleMovingAverage, AverageDollarVolume\n",
    "from quantopian.pipeline.data import USEquityPricing"
   ]
  },
  {
   "cell_type": "markdown",
   "metadata": {},
   "source": [
    "### Comparison operators\n",
    "\n",
    "This operation will help us compare two factors and return a value that meets certain criteria."
   ]
  },
  {
   "cell_type": "code",
   "execution_count": 2,
   "metadata": {},
   "outputs": [],
   "source": [
    "def make_pipeline():\n",
    "    \n",
    "    latest_close = USEquityPricing.close.latest\n",
    "    \n",
    "    mean_close_50 = SimpleMovingAverage(\n",
    "    \n",
    "        inputs = [USEquityPricing.close],\n",
    "        window_length = 50\n",
    "    )\n",
    "    \n",
    "    mean_close_200 = SimpleMovingAverage(\n",
    "    \n",
    "        inputs = [USEquityPricing.close],\n",
    "        window_length = 200\n",
    "    )\n",
    "    \n",
    "    mean_crossover_filter = mean_close_50 > mean_close_200\n",
    "    \n",
    "    return Pipeline(\n",
    "    \n",
    "        columns = {\n",
    "            \n",
    "            'mean_close_50':mean_close_50,\n",
    "            'mean_close_200':mean_close_200,\n",
    "            'latest_close':latest_close,\n",
    "            'crossover':mean_crossover_filter\n",
    "        }\n",
    "    )\n",
    "    \n",
    "    \n",
    "    "
   ]
  },
  {
   "cell_type": "code",
   "execution_count": 3,
   "metadata": {},
   "outputs": [
    {
     "data": {
      "application/vnd.jupyter.widget-view+json": {
       "model_id": "",
       "version_major": 2,
       "version_minor": 0
      },
      "text/plain": []
     },
     "metadata": {},
     "output_type": "display_data"
    },
    {
     "data": {
      "text/html": [
       "<b>Pipeline Execution Time:</b> 5.96 Seconds"
      ],
      "text/plain": [
       "<IPython.core.display.HTML object>"
      ]
     },
     "metadata": {},
     "output_type": "display_data"
    },
    {
     "data": {
      "text/html": [
       "<div>\n",
       "<table border=\"1\" class=\"dataframe\">\n",
       "  <thead>\n",
       "    <tr style=\"text-align: right;\">\n",
       "      <th></th>\n",
       "      <th></th>\n",
       "      <th>crossover</th>\n",
       "      <th>latest_close</th>\n",
       "      <th>mean_close_200</th>\n",
       "      <th>mean_close_50</th>\n",
       "    </tr>\n",
       "  </thead>\n",
       "  <tbody>\n",
       "    <tr>\n",
       "      <th rowspan=\"10\" valign=\"top\">2016-01-11 00:00:00+00:00</th>\n",
       "      <th>Equity(2 [ARNC])</th>\n",
       "      <td>False</td>\n",
       "      <td>8.068</td>\n",
       "      <td>10.580066</td>\n",
       "      <td>9.056216</td>\n",
       "    </tr>\n",
       "    <tr>\n",
       "      <th>Equity(21 [AAME])</th>\n",
       "      <td>True</td>\n",
       "      <td>4.460</td>\n",
       "      <td>4.034396</td>\n",
       "      <td>4.758100</td>\n",
       "    </tr>\n",
       "    <tr>\n",
       "      <th>Equity(24 [AAPL])</th>\n",
       "      <td>False</td>\n",
       "      <td>96.980</td>\n",
       "      <td>118.676494</td>\n",
       "      <td>113.593691</td>\n",
       "    </tr>\n",
       "    <tr>\n",
       "      <th>Equity(25 [ARNC_PR])</th>\n",
       "      <td>True</td>\n",
       "      <td>NaN</td>\n",
       "      <td>83.433936</td>\n",
       "      <td>84.467737</td>\n",
       "    </tr>\n",
       "    <tr>\n",
       "      <th>Equity(31 [ABAX])</th>\n",
       "      <td>True</td>\n",
       "      <td>51.480</td>\n",
       "      <td>52.082381</td>\n",
       "      <td>53.170782</td>\n",
       "    </tr>\n",
       "    <tr>\n",
       "      <th>Equity(39 [DDC])</th>\n",
       "      <td>False</td>\n",
       "      <td>10.090</td>\n",
       "      <td>13.027227</td>\n",
       "      <td>9.208280</td>\n",
       "    </tr>\n",
       "    <tr>\n",
       "      <th>Equity(41 [ARCB])</th>\n",
       "      <td>False</td>\n",
       "      <td>18.660</td>\n",
       "      <td>29.940789</td>\n",
       "      <td>23.286936</td>\n",
       "    </tr>\n",
       "    <tr>\n",
       "      <th>Equity(52 [ABM])</th>\n",
       "      <td>False</td>\n",
       "      <td>26.600</td>\n",
       "      <td>30.510478</td>\n",
       "      <td>28.615897</td>\n",
       "    </tr>\n",
       "    <tr>\n",
       "      <th>Equity(53 [ABMD])</th>\n",
       "      <td>True</td>\n",
       "      <td>84.640</td>\n",
       "      <td>79.811790</td>\n",
       "      <td>83.191900</td>\n",
       "    </tr>\n",
       "    <tr>\n",
       "      <th>Equity(62 [ABT])</th>\n",
       "      <td>False</td>\n",
       "      <td>40.650</td>\n",
       "      <td>46.039930</td>\n",
       "      <td>44.827800</td>\n",
       "    </tr>\n",
       "  </tbody>\n",
       "</table>\n",
       "</div>"
      ],
      "text/plain": [
       "                                               crossover  latest_close  \\\n",
       "2016-01-11 00:00:00+00:00 Equity(2 [ARNC])         False         8.068   \n",
       "                          Equity(21 [AAME])         True         4.460   \n",
       "                          Equity(24 [AAPL])        False        96.980   \n",
       "                          Equity(25 [ARNC_PR])      True           NaN   \n",
       "                          Equity(31 [ABAX])         True        51.480   \n",
       "                          Equity(39 [DDC])         False        10.090   \n",
       "                          Equity(41 [ARCB])        False        18.660   \n",
       "                          Equity(52 [ABM])         False        26.600   \n",
       "                          Equity(53 [ABMD])         True        84.640   \n",
       "                          Equity(62 [ABT])         False        40.650   \n",
       "\n",
       "                                                mean_close_200  mean_close_50  \n",
       "2016-01-11 00:00:00+00:00 Equity(2 [ARNC])           10.580066       9.056216  \n",
       "                          Equity(21 [AAME])           4.034396       4.758100  \n",
       "                          Equity(24 [AAPL])         118.676494     113.593691  \n",
       "                          Equity(25 [ARNC_PR])       83.433936      84.467737  \n",
       "                          Equity(31 [ABAX])          52.082381      53.170782  \n",
       "                          Equity(39 [DDC])           13.027227       9.208280  \n",
       "                          Equity(41 [ARCB])          29.940789      23.286936  \n",
       "                          Equity(52 [ABM])           30.510478      28.615897  \n",
       "                          Equity(53 [ABMD])          79.811790      83.191900  \n",
       "                          Equity(62 [ABT])           46.039930      44.827800  "
      ]
     },
     "execution_count": 3,
     "metadata": {},
     "output_type": "execute_result"
    }
   ],
   "source": [
    "output = run_pipeline(make_pipeline(),\n",
    "                     '2016-1-11',\n",
    "                     '2016-1-11')\n",
    "\n",
    "output.head(10)"
   ]
  },
  {
   "cell_type": "markdown",
   "metadata": {},
   "source": [
    "### Factor/Classifier Method\n",
    "\n",
    "Sometimes we would like to pick the top or bottom 100 stocks. We can use the factor/classifier method to perform this action. The below code will return `True` when the stock's closing price is in the top 100 and return `False` otherwise."
   ]
  },
  {
   "cell_type": "code",
   "execution_count": 4,
   "metadata": {},
   "outputs": [],
   "source": [
    "def make_pipeline():\n",
    "    \n",
    "    latest_close = USEquityPricing.close.latest\n",
    "    \n",
    "    top_close_price = latest_close.top(100)\n",
    "    \n",
    "    return Pipeline(\n",
    "    \n",
    "        columns = {\n",
    "            \n",
    "            'top_close_price':top_close_price,\n",
    "            'latest_close':latest_close\n",
    "        }\n",
    "    )\n",
    "\n",
    "\n",
    "    \n",
    "    "
   ]
  },
  {
   "cell_type": "code",
   "execution_count": 5,
   "metadata": {},
   "outputs": [
    {
     "data": {
      "application/vnd.jupyter.widget-view+json": {
       "model_id": "",
       "version_major": 2,
       "version_minor": 0
      },
      "text/plain": []
     },
     "metadata": {},
     "output_type": "display_data"
    },
    {
     "data": {
      "text/html": [
       "<b>Pipeline Execution Time:</b> 0.24 Seconds"
      ],
      "text/plain": [
       "<IPython.core.display.HTML object>"
      ]
     },
     "metadata": {},
     "output_type": "display_data"
    },
    {
     "data": {
      "text/html": [
       "<div>\n",
       "<table border=\"1\" class=\"dataframe\">\n",
       "  <thead>\n",
       "    <tr style=\"text-align: right;\">\n",
       "      <th></th>\n",
       "      <th></th>\n",
       "      <th>latest_close</th>\n",
       "      <th>top_close_price</th>\n",
       "    </tr>\n",
       "  </thead>\n",
       "  <tbody>\n",
       "    <tr>\n",
       "      <th rowspan=\"10\" valign=\"top\">2016-01-11 00:00:00+00:00</th>\n",
       "      <th>Equity(2 [ARNC])</th>\n",
       "      <td>8.068</td>\n",
       "      <td>False</td>\n",
       "    </tr>\n",
       "    <tr>\n",
       "      <th>Equity(21 [AAME])</th>\n",
       "      <td>4.460</td>\n",
       "      <td>False</td>\n",
       "    </tr>\n",
       "    <tr>\n",
       "      <th>Equity(24 [AAPL])</th>\n",
       "      <td>96.980</td>\n",
       "      <td>False</td>\n",
       "    </tr>\n",
       "    <tr>\n",
       "      <th>Equity(25 [ARNC_PR])</th>\n",
       "      <td>NaN</td>\n",
       "      <td>False</td>\n",
       "    </tr>\n",
       "    <tr>\n",
       "      <th>Equity(31 [ABAX])</th>\n",
       "      <td>51.480</td>\n",
       "      <td>False</td>\n",
       "    </tr>\n",
       "    <tr>\n",
       "      <th>Equity(39 [DDC])</th>\n",
       "      <td>10.090</td>\n",
       "      <td>False</td>\n",
       "    </tr>\n",
       "    <tr>\n",
       "      <th>Equity(41 [ARCB])</th>\n",
       "      <td>18.660</td>\n",
       "      <td>False</td>\n",
       "    </tr>\n",
       "    <tr>\n",
       "      <th>Equity(52 [ABM])</th>\n",
       "      <td>26.600</td>\n",
       "      <td>False</td>\n",
       "    </tr>\n",
       "    <tr>\n",
       "      <th>Equity(53 [ABMD])</th>\n",
       "      <td>84.640</td>\n",
       "      <td>False</td>\n",
       "    </tr>\n",
       "    <tr>\n",
       "      <th>Equity(62 [ABT])</th>\n",
       "      <td>40.650</td>\n",
       "      <td>False</td>\n",
       "    </tr>\n",
       "  </tbody>\n",
       "</table>\n",
       "</div>"
      ],
      "text/plain": [
       "                                                latest_close top_close_price\n",
       "2016-01-11 00:00:00+00:00 Equity(2 [ARNC])             8.068           False\n",
       "                          Equity(21 [AAME])            4.460           False\n",
       "                          Equity(24 [AAPL])           96.980           False\n",
       "                          Equity(25 [ARNC_PR])           NaN           False\n",
       "                          Equity(31 [ABAX])           51.480           False\n",
       "                          Equity(39 [DDC])            10.090           False\n",
       "                          Equity(41 [ARCB])           18.660           False\n",
       "                          Equity(52 [ABM])            26.600           False\n",
       "                          Equity(53 [ABMD])           84.640           False\n",
       "                          Equity(62 [ABT])            40.650           False"
      ]
     },
     "execution_count": 5,
     "metadata": {},
     "output_type": "execute_result"
    }
   ],
   "source": [
    "output = run_pipeline(make_pipeline(),\n",
    "                     '2016-1-11',\n",
    "                     '2016-1-11')\n",
    "\n",
    "output.head(10)"
   ]
  },
  {
   "cell_type": "markdown",
   "metadata": {},
   "source": [
    "Lets look at some values that returned `True`"
   ]
  },
  {
   "cell_type": "code",
   "execution_count": 6,
   "metadata": {},
   "outputs": [
    {
     "data": {
      "text/html": [
       "<div>\n",
       "<table border=\"1\" class=\"dataframe\">\n",
       "  <thead>\n",
       "    <tr style=\"text-align: right;\">\n",
       "      <th></th>\n",
       "      <th></th>\n",
       "      <th>latest_close</th>\n",
       "      <th>top_close_price</th>\n",
       "    </tr>\n",
       "  </thead>\n",
       "  <tbody>\n",
       "    <tr>\n",
       "      <th rowspan=\"10\" valign=\"top\">2016-01-11 00:00:00+00:00</th>\n",
       "      <th>Equity(332 [ALX])</th>\n",
       "      <td>374.77</td>\n",
       "      <td>True</td>\n",
       "    </tr>\n",
       "    <tr>\n",
       "      <th>Equity(368 [AMGN])</th>\n",
       "      <td>150.70</td>\n",
       "      <td>True</td>\n",
       "    </tr>\n",
       "    <tr>\n",
       "      <th>Equity(693 [AZO])</th>\n",
       "      <td>712.27</td>\n",
       "      <td>True</td>\n",
       "    </tr>\n",
       "    <tr>\n",
       "      <th>Equity(779 [BCR])</th>\n",
       "      <td>180.09</td>\n",
       "      <td>True</td>\n",
       "    </tr>\n",
       "    <tr>\n",
       "      <th>Equity(1091 [BRK_A])</th>\n",
       "      <td>193680.00</td>\n",
       "      <td>True</td>\n",
       "    </tr>\n",
       "    <tr>\n",
       "      <th>Equity(1216 [CACC])</th>\n",
       "      <td>206.40</td>\n",
       "      <td>True</td>\n",
       "    </tr>\n",
       "    <tr>\n",
       "      <th>Equity(1753 [COKE])</th>\n",
       "      <td>177.51</td>\n",
       "      <td>True</td>\n",
       "    </tr>\n",
       "    <tr>\n",
       "      <th>Equity(1787 [COST])</th>\n",
       "      <td>152.11</td>\n",
       "      <td>True</td>\n",
       "    </tr>\n",
       "    <tr>\n",
       "      <th>Equity(2174 [DIA])</th>\n",
       "      <td>163.26</td>\n",
       "      <td>True</td>\n",
       "    </tr>\n",
       "    <tr>\n",
       "      <th>Equity(2194 [DJCO])</th>\n",
       "      <td>192.70</td>\n",
       "      <td>True</td>\n",
       "    </tr>\n",
       "  </tbody>\n",
       "</table>\n",
       "</div>"
      ],
      "text/plain": [
       "                                                latest_close top_close_price\n",
       "2016-01-11 00:00:00+00:00 Equity(332 [ALX])           374.77            True\n",
       "                          Equity(368 [AMGN])          150.70            True\n",
       "                          Equity(693 [AZO])           712.27            True\n",
       "                          Equity(779 [BCR])           180.09            True\n",
       "                          Equity(1091 [BRK_A])     193680.00            True\n",
       "                          Equity(1216 [CACC])         206.40            True\n",
       "                          Equity(1753 [COKE])         177.51            True\n",
       "                          Equity(1787 [COST])         152.11            True\n",
       "                          Equity(2174 [DIA])          163.26            True\n",
       "                          Equity(2194 [DJCO])         192.70            True"
      ]
     },
     "execution_count": 6,
     "metadata": {},
     "output_type": "execute_result"
    }
   ],
   "source": [
    "output[output['top_close_price']].head(10)"
   ]
  },
  {
   "cell_type": "markdown",
   "metadata": {},
   "source": [
    "### Dollar Volume filter"
   ]
  },
  {
   "cell_type": "markdown",
   "metadata": {},
   "source": [
    "We can also create filters to select only the stocks that have had 30 day average dollar volume above \\\\$10million"
   ]
  },
  {
   "cell_type": "code",
   "execution_count": 7,
   "metadata": {},
   "outputs": [],
   "source": [
    "from quantopian.pipeline.factors import AverageDollarVolume\n",
    "\n",
    "def make_pipeline():\n",
    "    \n",
    "    latest_close = USEquityPricing.close.latest\n",
    "    \n",
    "    mean_close_50 = SimpleMovingAverage(\n",
    "    \n",
    "        inputs = [USEquityPricing.close],\n",
    "        window_length = 50\n",
    "    )\n",
    "    \n",
    "    mean_close_200 = SimpleMovingAverage(\n",
    "    \n",
    "        inputs = [USEquityPricing.close],\n",
    "        window_length = 200\n",
    "    )\n",
    "    \n",
    "    mean_crossover_filter = mean_close_50 > mean_close_200\n",
    "    \n",
    "    dollar_volume = AverageDollarVolume(window_length = 30)\n",
    "    high_dollar_volume = dollar_volume > 10e6\n",
    "    \n",
    "    return Pipeline(\n",
    "    \n",
    "        columns = {\n",
    "            \n",
    "            'mean_close_50':mean_close_50,\n",
    "            'mean_close_200':mean_close_200,\n",
    "            'latest_close':latest_close,\n",
    "            'crossover':mean_crossover_filter,\n",
    "            'high_dollar_volume':high_dollar_volume\n",
    "        }\n",
    "    )\n",
    "    \n",
    "    "
   ]
  },
  {
   "cell_type": "code",
   "execution_count": 8,
   "metadata": {},
   "outputs": [
    {
     "data": {
      "application/vnd.jupyter.widget-view+json": {
       "model_id": "",
       "version_major": 2,
       "version_minor": 0
      },
      "text/plain": []
     },
     "metadata": {},
     "output_type": "display_data"
    },
    {
     "data": {
      "text/html": [
       "<b>Pipeline Execution Time:</b> 0.90 Seconds"
      ],
      "text/plain": [
       "<IPython.core.display.HTML object>"
      ]
     },
     "metadata": {},
     "output_type": "display_data"
    },
    {
     "data": {
      "text/html": [
       "<div>\n",
       "<table border=\"1\" class=\"dataframe\">\n",
       "  <thead>\n",
       "    <tr style=\"text-align: right;\">\n",
       "      <th></th>\n",
       "      <th></th>\n",
       "      <th>crossover</th>\n",
       "      <th>high_dollar_volume</th>\n",
       "      <th>latest_close</th>\n",
       "      <th>mean_close_200</th>\n",
       "      <th>mean_close_50</th>\n",
       "    </tr>\n",
       "  </thead>\n",
       "  <tbody>\n",
       "    <tr>\n",
       "      <th rowspan=\"10\" valign=\"top\">2016-01-11 00:00:00+00:00</th>\n",
       "      <th>Equity(2 [ARNC])</th>\n",
       "      <td>False</td>\n",
       "      <td>True</td>\n",
       "      <td>8.068</td>\n",
       "      <td>10.580066</td>\n",
       "      <td>9.056216</td>\n",
       "    </tr>\n",
       "    <tr>\n",
       "      <th>Equity(21 [AAME])</th>\n",
       "      <td>True</td>\n",
       "      <td>False</td>\n",
       "      <td>4.460</td>\n",
       "      <td>4.034396</td>\n",
       "      <td>4.758100</td>\n",
       "    </tr>\n",
       "    <tr>\n",
       "      <th>Equity(24 [AAPL])</th>\n",
       "      <td>False</td>\n",
       "      <td>True</td>\n",
       "      <td>96.980</td>\n",
       "      <td>118.676494</td>\n",
       "      <td>113.593691</td>\n",
       "    </tr>\n",
       "    <tr>\n",
       "      <th>Equity(25 [ARNC_PR])</th>\n",
       "      <td>True</td>\n",
       "      <td>False</td>\n",
       "      <td>NaN</td>\n",
       "      <td>83.433936</td>\n",
       "      <td>84.467737</td>\n",
       "    </tr>\n",
       "    <tr>\n",
       "      <th>Equity(31 [ABAX])</th>\n",
       "      <td>True</td>\n",
       "      <td>False</td>\n",
       "      <td>51.480</td>\n",
       "      <td>52.082381</td>\n",
       "      <td>53.170782</td>\n",
       "    </tr>\n",
       "    <tr>\n",
       "      <th>Equity(39 [DDC])</th>\n",
       "      <td>False</td>\n",
       "      <td>False</td>\n",
       "      <td>10.090</td>\n",
       "      <td>13.027227</td>\n",
       "      <td>9.208280</td>\n",
       "    </tr>\n",
       "    <tr>\n",
       "      <th>Equity(41 [ARCB])</th>\n",
       "      <td>False</td>\n",
       "      <td>False</td>\n",
       "      <td>18.660</td>\n",
       "      <td>29.940789</td>\n",
       "      <td>23.286936</td>\n",
       "    </tr>\n",
       "    <tr>\n",
       "      <th>Equity(52 [ABM])</th>\n",
       "      <td>False</td>\n",
       "      <td>False</td>\n",
       "      <td>26.600</td>\n",
       "      <td>30.510478</td>\n",
       "      <td>28.615897</td>\n",
       "    </tr>\n",
       "    <tr>\n",
       "      <th>Equity(53 [ABMD])</th>\n",
       "      <td>True</td>\n",
       "      <td>True</td>\n",
       "      <td>84.640</td>\n",
       "      <td>79.811790</td>\n",
       "      <td>83.191900</td>\n",
       "    </tr>\n",
       "    <tr>\n",
       "      <th>Equity(62 [ABT])</th>\n",
       "      <td>False</td>\n",
       "      <td>True</td>\n",
       "      <td>40.650</td>\n",
       "      <td>46.039930</td>\n",
       "      <td>44.827800</td>\n",
       "    </tr>\n",
       "  </tbody>\n",
       "</table>\n",
       "</div>"
      ],
      "text/plain": [
       "                                               crossover high_dollar_volume  \\\n",
       "2016-01-11 00:00:00+00:00 Equity(2 [ARNC])         False               True   \n",
       "                          Equity(21 [AAME])         True              False   \n",
       "                          Equity(24 [AAPL])        False               True   \n",
       "                          Equity(25 [ARNC_PR])      True              False   \n",
       "                          Equity(31 [ABAX])         True              False   \n",
       "                          Equity(39 [DDC])         False              False   \n",
       "                          Equity(41 [ARCB])        False              False   \n",
       "                          Equity(52 [ABM])         False              False   \n",
       "                          Equity(53 [ABMD])         True               True   \n",
       "                          Equity(62 [ABT])         False               True   \n",
       "\n",
       "                                                latest_close  mean_close_200  \\\n",
       "2016-01-11 00:00:00+00:00 Equity(2 [ARNC])             8.068       10.580066   \n",
       "                          Equity(21 [AAME])            4.460        4.034396   \n",
       "                          Equity(24 [AAPL])           96.980      118.676494   \n",
       "                          Equity(25 [ARNC_PR])           NaN       83.433936   \n",
       "                          Equity(31 [ABAX])           51.480       52.082381   \n",
       "                          Equity(39 [DDC])            10.090       13.027227   \n",
       "                          Equity(41 [ARCB])           18.660       29.940789   \n",
       "                          Equity(52 [ABM])            26.600       30.510478   \n",
       "                          Equity(53 [ABMD])           84.640       79.811790   \n",
       "                          Equity(62 [ABT])            40.650       46.039930   \n",
       "\n",
       "                                                mean_close_50  \n",
       "2016-01-11 00:00:00+00:00 Equity(2 [ARNC])           9.056216  \n",
       "                          Equity(21 [AAME])          4.758100  \n",
       "                          Equity(24 [AAPL])        113.593691  \n",
       "                          Equity(25 [ARNC_PR])      84.467737  \n",
       "                          Equity(31 [ABAX])         53.170782  \n",
       "                          Equity(39 [DDC])           9.208280  \n",
       "                          Equity(41 [ARCB])         23.286936  \n",
       "                          Equity(52 [ABM])          28.615897  \n",
       "                          Equity(53 [ABMD])         83.191900  \n",
       "                          Equity(62 [ABT])          44.827800  "
      ]
     },
     "execution_count": 8,
     "metadata": {},
     "output_type": "execute_result"
    }
   ],
   "source": [
    "output = run_pipeline(make_pipeline(),\n",
    "                     '2016-1-11',\n",
    "                     '2016-1-11')\n",
    "\n",
    "output.head(10)"
   ]
  },
  {
   "cell_type": "markdown",
   "metadata": {},
   "source": [
    "### Applying the Screen\n",
    "\n",
    "So whats the point of getting the `True` or `False` values? It is used to apply a screen in our pipeline. Suppose we are only interested in the high_dollar_volume stocks. Then we can use that as a screen."
   ]
  },
  {
   "cell_type": "code",
   "execution_count": 9,
   "metadata": {},
   "outputs": [],
   "source": [
    "def make_pipeline():\n",
    "    \n",
    "    latest_close = USEquityPricing.close.latest\n",
    "    \n",
    "    mean_close_50 = SimpleMovingAverage(\n",
    "    \n",
    "        inputs = [USEquityPricing.close],\n",
    "        window_length = 50\n",
    "    )\n",
    "    \n",
    "    mean_close_200 = SimpleMovingAverage(\n",
    "    \n",
    "        inputs = [USEquityPricing.close],\n",
    "        window_length = 200\n",
    "    )\n",
    "    \n",
    "    mean_crossover_filter = mean_close_50 > mean_close_200\n",
    "    \n",
    "    dollar_volume = AverageDollarVolume(window_length = 30)\n",
    "    high_dollar_volume = dollar_volume > 10e6\n",
    "    \n",
    "    return Pipeline(\n",
    "    \n",
    "        columns = {\n",
    "            \n",
    "            'mean_close_50':mean_close_50,\n",
    "            'mean_close_200':mean_close_200,\n",
    "            'latest_close':latest_close,\n",
    "            'crossover':mean_crossover_filter,\n",
    "            'dollar_volume':dollar_volume\n",
    "        }, screen = high_dollar_volume\n",
    "    )"
   ]
  },
  {
   "cell_type": "code",
   "execution_count": 10,
   "metadata": {},
   "outputs": [
    {
     "data": {
      "application/vnd.jupyter.widget-view+json": {
       "model_id": "",
       "version_major": 2,
       "version_minor": 0
      },
      "text/plain": []
     },
     "metadata": {},
     "output_type": "display_data"
    },
    {
     "data": {
      "text/html": [
       "<b>Pipeline Execution Time:</b> 0.86 Seconds"
      ],
      "text/plain": [
       "<IPython.core.display.HTML object>"
      ]
     },
     "metadata": {},
     "output_type": "display_data"
    },
    {
     "data": {
      "text/html": [
       "<div>\n",
       "<table border=\"1\" class=\"dataframe\">\n",
       "  <thead>\n",
       "    <tr style=\"text-align: right;\">\n",
       "      <th></th>\n",
       "      <th></th>\n",
       "      <th>crossover</th>\n",
       "      <th>dollar_volume</th>\n",
       "      <th>latest_close</th>\n",
       "      <th>mean_close_200</th>\n",
       "      <th>mean_close_50</th>\n",
       "    </tr>\n",
       "  </thead>\n",
       "  <tbody>\n",
       "    <tr>\n",
       "      <th rowspan=\"10\" valign=\"top\">2016-01-11 00:00:00+00:00</th>\n",
       "      <th>Equity(2 [ARNC])</th>\n",
       "      <td>False</td>\n",
       "      <td>2.274140e+08</td>\n",
       "      <td>8.068</td>\n",
       "      <td>10.580066</td>\n",
       "      <td>9.056216</td>\n",
       "    </tr>\n",
       "    <tr>\n",
       "      <th>Equity(24 [AAPL])</th>\n",
       "      <td>False</td>\n",
       "      <td>3.984098e+09</td>\n",
       "      <td>96.980</td>\n",
       "      <td>118.676494</td>\n",
       "      <td>113.593691</td>\n",
       "    </tr>\n",
       "    <tr>\n",
       "      <th>Equity(53 [ABMD])</th>\n",
       "      <td>True</td>\n",
       "      <td>2.731392e+07</td>\n",
       "      <td>84.640</td>\n",
       "      <td>79.811790</td>\n",
       "      <td>83.191900</td>\n",
       "    </tr>\n",
       "    <tr>\n",
       "      <th>Equity(62 [ABT])</th>\n",
       "      <td>False</td>\n",
       "      <td>2.069585e+08</td>\n",
       "      <td>40.650</td>\n",
       "      <td>46.039930</td>\n",
       "      <td>44.827800</td>\n",
       "    </tr>\n",
       "    <tr>\n",
       "      <th>Equity(64 [GOLD])</th>\n",
       "      <td>False</td>\n",
       "      <td>1.152668e+08</td>\n",
       "      <td>8.410</td>\n",
       "      <td>9.008780</td>\n",
       "      <td>7.521845</td>\n",
       "    </tr>\n",
       "    <tr>\n",
       "      <th>Equity(67 [ADSK])</th>\n",
       "      <td>True</td>\n",
       "      <td>9.247820e+07</td>\n",
       "      <td>55.070</td>\n",
       "      <td>55.289560</td>\n",
       "      <td>61.210240</td>\n",
       "    </tr>\n",
       "    <tr>\n",
       "      <th>Equity(76 [TAP])</th>\n",
       "      <td>True</td>\n",
       "      <td>1.054230e+08</td>\n",
       "      <td>89.190</td>\n",
       "      <td>78.621830</td>\n",
       "      <td>91.888813</td>\n",
       "    </tr>\n",
       "    <tr>\n",
       "      <th>Equity(114 [ADBE])</th>\n",
       "      <td>True</td>\n",
       "      <td>1.803706e+08</td>\n",
       "      <td>87.840</td>\n",
       "      <td>82.998900</td>\n",
       "      <td>91.503300</td>\n",
       "    </tr>\n",
       "    <tr>\n",
       "      <th>Equity(122 [ADI])</th>\n",
       "      <td>False</td>\n",
       "      <td>1.193104e+08</td>\n",
       "      <td>49.980</td>\n",
       "      <td>59.710895</td>\n",
       "      <td>57.864331</td>\n",
       "    </tr>\n",
       "    <tr>\n",
       "      <th>Equity(128 [ADM])</th>\n",
       "      <td>False</td>\n",
       "      <td>1.387628e+08</td>\n",
       "      <td>34.390</td>\n",
       "      <td>44.669667</td>\n",
       "      <td>37.607770</td>\n",
       "    </tr>\n",
       "  </tbody>\n",
       "</table>\n",
       "</div>"
      ],
      "text/plain": [
       "                                             crossover  dollar_volume  \\\n",
       "2016-01-11 00:00:00+00:00 Equity(2 [ARNC])       False   2.274140e+08   \n",
       "                          Equity(24 [AAPL])      False   3.984098e+09   \n",
       "                          Equity(53 [ABMD])       True   2.731392e+07   \n",
       "                          Equity(62 [ABT])       False   2.069585e+08   \n",
       "                          Equity(64 [GOLD])      False   1.152668e+08   \n",
       "                          Equity(67 [ADSK])       True   9.247820e+07   \n",
       "                          Equity(76 [TAP])        True   1.054230e+08   \n",
       "                          Equity(114 [ADBE])      True   1.803706e+08   \n",
       "                          Equity(122 [ADI])      False   1.193104e+08   \n",
       "                          Equity(128 [ADM])      False   1.387628e+08   \n",
       "\n",
       "                                              latest_close  mean_close_200  \\\n",
       "2016-01-11 00:00:00+00:00 Equity(2 [ARNC])           8.068       10.580066   \n",
       "                          Equity(24 [AAPL])         96.980      118.676494   \n",
       "                          Equity(53 [ABMD])         84.640       79.811790   \n",
       "                          Equity(62 [ABT])          40.650       46.039930   \n",
       "                          Equity(64 [GOLD])          8.410        9.008780   \n",
       "                          Equity(67 [ADSK])         55.070       55.289560   \n",
       "                          Equity(76 [TAP])          89.190       78.621830   \n",
       "                          Equity(114 [ADBE])        87.840       82.998900   \n",
       "                          Equity(122 [ADI])         49.980       59.710895   \n",
       "                          Equity(128 [ADM])         34.390       44.669667   \n",
       "\n",
       "                                              mean_close_50  \n",
       "2016-01-11 00:00:00+00:00 Equity(2 [ARNC])         9.056216  \n",
       "                          Equity(24 [AAPL])      113.593691  \n",
       "                          Equity(53 [ABMD])       83.191900  \n",
       "                          Equity(62 [ABT])        44.827800  \n",
       "                          Equity(64 [GOLD])        7.521845  \n",
       "                          Equity(67 [ADSK])       61.210240  \n",
       "                          Equity(76 [TAP])        91.888813  \n",
       "                          Equity(114 [ADBE])      91.503300  \n",
       "                          Equity(122 [ADI])       57.864331  \n",
       "                          Equity(128 [ADM])       37.607770  "
      ]
     },
     "execution_count": 10,
     "metadata": {},
     "output_type": "execute_result"
    }
   ],
   "source": [
    "output = run_pipeline(make_pipeline(),\n",
    "                     '2016-1-11',\n",
    "                     '2016-1-11')\n",
    "\n",
    "output.head(10)"
   ]
  },
  {
   "cell_type": "code",
   "execution_count": 11,
   "metadata": {},
   "outputs": [
    {
     "name": "stdout",
     "output_type": "stream",
     "text": [
      "The number of securities that passed the High Dollar Volume filter : 1993\n"
     ]
    }
   ],
   "source": [
    "print(\"The number of securities that passed the High Dollar Volume filter : %d\" % len(output))"
   ]
  },
  {
   "cell_type": "markdown",
   "metadata": {},
   "source": [
    "### Inverting a Filter"
   ]
  },
  {
   "cell_type": "markdown",
   "metadata": {},
   "source": [
    "Lets do the opposite. We will filter and select the low dollar volume stocks using the `~` operator."
   ]
  },
  {
   "cell_type": "code",
   "execution_count": 12,
   "metadata": {},
   "outputs": [],
   "source": [
    "def make_pipeline():\n",
    "    \n",
    "    latest_close = USEquityPricing.close.latest\n",
    "    \n",
    "    mean_close_50 = SimpleMovingAverage(\n",
    "    \n",
    "        inputs = [USEquityPricing.close],\n",
    "        window_length = 50\n",
    "    )\n",
    "    \n",
    "    mean_close_200 = SimpleMovingAverage(\n",
    "    \n",
    "        inputs = [USEquityPricing.close],\n",
    "        window_length = 200\n",
    "    )\n",
    "    \n",
    "    mean_crossover_filter = mean_close_50 > mean_close_200\n",
    "    \n",
    "    dollar_volume = AverageDollarVolume(window_length = 30)\n",
    "    high_dollar_volume = dollar_volume > 10e6\n",
    "    \n",
    "    return Pipeline(\n",
    "    \n",
    "        columns = {\n",
    "            \n",
    "            'mean_close_50':mean_close_50,\n",
    "            'mean_close_200':mean_close_200,\n",
    "            'latest_close':latest_close,\n",
    "            'crossover':mean_crossover_filter,\n",
    "            'dollar_volume':dollar_volume\n",
    "        }, screen = ~high_dollar_volume\n",
    "    )"
   ]
  },
  {
   "cell_type": "code",
   "execution_count": 13,
   "metadata": {},
   "outputs": [
    {
     "data": {
      "application/vnd.jupyter.widget-view+json": {
       "model_id": "",
       "version_major": 2,
       "version_minor": 0
      },
      "text/plain": []
     },
     "metadata": {},
     "output_type": "display_data"
    },
    {
     "data": {
      "text/html": [
       "<b>Pipeline Execution Time:</b> 0.95 Seconds"
      ],
      "text/plain": [
       "<IPython.core.display.HTML object>"
      ]
     },
     "metadata": {},
     "output_type": "display_data"
    },
    {
     "data": {
      "text/html": [
       "<div>\n",
       "<table border=\"1\" class=\"dataframe\">\n",
       "  <thead>\n",
       "    <tr style=\"text-align: right;\">\n",
       "      <th></th>\n",
       "      <th></th>\n",
       "      <th>crossover</th>\n",
       "      <th>dollar_volume</th>\n",
       "      <th>latest_close</th>\n",
       "      <th>mean_close_200</th>\n",
       "      <th>mean_close_50</th>\n",
       "    </tr>\n",
       "  </thead>\n",
       "  <tbody>\n",
       "    <tr>\n",
       "      <th rowspan=\"10\" valign=\"top\">2016-01-11 00:00:00+00:00</th>\n",
       "      <th>Equity(21 [AAME])</th>\n",
       "      <td>True</td>\n",
       "      <td>1.825666e+04</td>\n",
       "      <td>4.46</td>\n",
       "      <td>4.034396</td>\n",
       "      <td>4.758100</td>\n",
       "    </tr>\n",
       "    <tr>\n",
       "      <th>Equity(25 [ARNC_PR])</th>\n",
       "      <td>True</td>\n",
       "      <td>2.021752e+04</td>\n",
       "      <td>NaN</td>\n",
       "      <td>83.433936</td>\n",
       "      <td>84.467737</td>\n",
       "    </tr>\n",
       "    <tr>\n",
       "      <th>Equity(31 [ABAX])</th>\n",
       "      <td>True</td>\n",
       "      <td>5.272874e+06</td>\n",
       "      <td>51.48</td>\n",
       "      <td>52.082381</td>\n",
       "      <td>53.170782</td>\n",
       "    </tr>\n",
       "    <tr>\n",
       "      <th>Equity(39 [DDC])</th>\n",
       "      <td>False</td>\n",
       "      <td>4.134326e+06</td>\n",
       "      <td>10.09</td>\n",
       "      <td>13.027227</td>\n",
       "      <td>9.208280</td>\n",
       "    </tr>\n",
       "    <tr>\n",
       "      <th>Equity(41 [ARCB])</th>\n",
       "      <td>False</td>\n",
       "      <td>5.136647e+06</td>\n",
       "      <td>18.66</td>\n",
       "      <td>29.940789</td>\n",
       "      <td>23.286936</td>\n",
       "    </tr>\n",
       "    <tr>\n",
       "      <th>Equity(52 [ABM])</th>\n",
       "      <td>False</td>\n",
       "      <td>5.850535e+06</td>\n",
       "      <td>26.60</td>\n",
       "      <td>30.510478</td>\n",
       "      <td>28.615897</td>\n",
       "    </tr>\n",
       "    <tr>\n",
       "      <th>Equity(66 [AB])</th>\n",
       "      <td>False</td>\n",
       "      <td>7.410636e+06</td>\n",
       "      <td>21.84</td>\n",
       "      <td>27.155139</td>\n",
       "      <td>24.392800</td>\n",
       "    </tr>\n",
       "    <tr>\n",
       "      <th>Equity(69 [ACAT])</th>\n",
       "      <td>False</td>\n",
       "      <td>3.105641e+06</td>\n",
       "      <td>14.34</td>\n",
       "      <td>27.365528</td>\n",
       "      <td>19.122425</td>\n",
       "    </tr>\n",
       "    <tr>\n",
       "      <th>Equity(70 [VBF])</th>\n",
       "      <td>True</td>\n",
       "      <td>3.930920e+05</td>\n",
       "      <td>17.63</td>\n",
       "      <td>17.663242</td>\n",
       "      <td>17.950518</td>\n",
       "    </tr>\n",
       "    <tr>\n",
       "      <th>Equity(84 [ACET])</th>\n",
       "      <td>True</td>\n",
       "      <td>6.210320e+06</td>\n",
       "      <td>22.15</td>\n",
       "      <td>24.984356</td>\n",
       "      <td>27.147669</td>\n",
       "    </tr>\n",
       "  </tbody>\n",
       "</table>\n",
       "</div>"
      ],
      "text/plain": [
       "                                               crossover  dollar_volume  \\\n",
       "2016-01-11 00:00:00+00:00 Equity(21 [AAME])         True   1.825666e+04   \n",
       "                          Equity(25 [ARNC_PR])      True   2.021752e+04   \n",
       "                          Equity(31 [ABAX])         True   5.272874e+06   \n",
       "                          Equity(39 [DDC])         False   4.134326e+06   \n",
       "                          Equity(41 [ARCB])        False   5.136647e+06   \n",
       "                          Equity(52 [ABM])         False   5.850535e+06   \n",
       "                          Equity(66 [AB])          False   7.410636e+06   \n",
       "                          Equity(69 [ACAT])        False   3.105641e+06   \n",
       "                          Equity(70 [VBF])          True   3.930920e+05   \n",
       "                          Equity(84 [ACET])         True   6.210320e+06   \n",
       "\n",
       "                                                latest_close  mean_close_200  \\\n",
       "2016-01-11 00:00:00+00:00 Equity(21 [AAME])             4.46        4.034396   \n",
       "                          Equity(25 [ARNC_PR])           NaN       83.433936   \n",
       "                          Equity(31 [ABAX])            51.48       52.082381   \n",
       "                          Equity(39 [DDC])             10.09       13.027227   \n",
       "                          Equity(41 [ARCB])            18.66       29.940789   \n",
       "                          Equity(52 [ABM])             26.60       30.510478   \n",
       "                          Equity(66 [AB])              21.84       27.155139   \n",
       "                          Equity(69 [ACAT])            14.34       27.365528   \n",
       "                          Equity(70 [VBF])             17.63       17.663242   \n",
       "                          Equity(84 [ACET])            22.15       24.984356   \n",
       "\n",
       "                                                mean_close_50  \n",
       "2016-01-11 00:00:00+00:00 Equity(21 [AAME])          4.758100  \n",
       "                          Equity(25 [ARNC_PR])      84.467737  \n",
       "                          Equity(31 [ABAX])         53.170782  \n",
       "                          Equity(39 [DDC])           9.208280  \n",
       "                          Equity(41 [ARCB])         23.286936  \n",
       "                          Equity(52 [ABM])          28.615897  \n",
       "                          Equity(66 [AB])           24.392800  \n",
       "                          Equity(69 [ACAT])         19.122425  \n",
       "                          Equity(70 [VBF])          17.950518  \n",
       "                          Equity(84 [ACET])         27.147669  "
      ]
     },
     "execution_count": 13,
     "metadata": {},
     "output_type": "execute_result"
    }
   ],
   "source": [
    "output = run_pipeline(make_pipeline(),\n",
    "                     '2016-1-11',\n",
    "                     '2016-1-11')\n",
    "\n",
    "output.head(10)"
   ]
  },
  {
   "cell_type": "code",
   "execution_count": 14,
   "metadata": {},
   "outputs": [
    {
     "name": "stdout",
     "output_type": "stream",
     "text": [
      "The number of securities that passed the Low Dollar Volume filter : 6408\n"
     ]
    }
   ],
   "source": [
    "print(\"The number of securities that passed the Low Dollar Volume filter : %d\" % len(output))"
   ]
  }
 ],
 "metadata": {
  "kernelspec": {
   "display_name": "Python 3.5",
   "language": "python",
   "name": "py35"
  },
  "language_info": {
   "codemirror_mode": {
    "name": "ipython",
    "version": 3
   },
   "file_extension": ".py",
   "mimetype": "text/x-python",
   "name": "python",
   "nbconvert_exporter": "python",
   "pygments_lexer": "ipython3",
   "version": "3.5.9"
  }
 },
 "nbformat": 4,
 "nbformat_minor": 2
}
