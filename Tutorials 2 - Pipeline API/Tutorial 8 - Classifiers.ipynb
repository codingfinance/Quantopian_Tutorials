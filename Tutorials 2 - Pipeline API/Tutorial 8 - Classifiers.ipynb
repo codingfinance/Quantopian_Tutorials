{
 "cells": [
  {
   "cell_type": "markdown",
   "metadata": {},
   "source": [
    "## Classifiers\n"
   ]
  },
  {
   "cell_type": "code",
   "execution_count": 1,
   "metadata": {},
   "outputs": [],
   "source": [
    "from quantopian.pipeline import Pipeline\n",
    "from quantopian.research import run_pipeline\n",
    "from quantopian.pipeline.data import USEquityPricing\n",
    "from quantopian.pipeline.factors import SimpleMovingAverage, AverageDollarVolume\n",
    "\n",
    "from quantopian.pipeline.data import Fundamentals\n",
    "from quantopian.pipeline.classifiers.fundamentals import Sector"
   ]
  },
  {
   "cell_type": "markdown",
   "metadata": {},
   "source": [
    "The below code will return the stocks with sectors that are\n",
    "- Listed on NY stock exchange and\n",
    "- In the top decile"
   ]
  },
  {
   "cell_type": "code",
   "execution_count": 2,
   "metadata": {},
   "outputs": [],
   "source": [
    "def make_pipeline():\n",
    "    \n",
    "    \n",
    "    exchange = Fundamentals.exchange_id.latest\n",
    "    nyse_filter = exchange.eq('NYS')\n",
    "    \n",
    "    morningstar_sector = Sector()\n",
    "    \n",
    "    dollar_volume_decile = AverageDollarVolume(window_length = 10).deciles()\n",
    "    \n",
    "    top_decile = (dollar_volume_decile.eq(9))\n",
    "    \n",
    "    return Pipeline(\n",
    "    \n",
    "        columns = {\n",
    "            \n",
    "            'exchange':exchange,\n",
    "            'sector_code':morningstar_sector,\n",
    "            'dollar_volume_decile':dollar_volume_decile\n",
    "        },\n",
    "        screen = (nyse_filter & top_decile)\n",
    "    \n",
    "    )\n",
    "\n"
   ]
  },
  {
   "cell_type": "code",
   "execution_count": 3,
   "metadata": {},
   "outputs": [
    {
     "data": {
      "application/vnd.jupyter.widget-view+json": {
       "model_id": "",
       "version_major": 2,
       "version_minor": 0
      },
      "text/plain": []
     },
     "metadata": {},
     "output_type": "display_data"
    },
    {
     "data": {
      "text/html": [
       "<b>Pipeline Execution Time:</b> 7.87 Seconds"
      ],
      "text/plain": [
       "<IPython.core.display.HTML object>"
      ]
     },
     "metadata": {},
     "output_type": "display_data"
    },
    {
     "name": "stdout",
     "output_type": "stream",
     "text": [
      "Number of securities that passed the filter: 513\n"
     ]
    },
    {
     "data": {
      "text/html": [
       "<div>\n",
       "<table border=\"1\" class=\"dataframe\">\n",
       "  <thead>\n",
       "    <tr style=\"text-align: right;\">\n",
       "      <th></th>\n",
       "      <th></th>\n",
       "      <th>dollar_volume_decile</th>\n",
       "      <th>exchange</th>\n",
       "      <th>sector_code</th>\n",
       "    </tr>\n",
       "  </thead>\n",
       "  <tbody>\n",
       "    <tr>\n",
       "      <th rowspan=\"5\" valign=\"top\">2015-05-05 00:00:00+00:00</th>\n",
       "      <th>Equity(2 [ARNC])</th>\n",
       "      <td>9</td>\n",
       "      <td>NYS</td>\n",
       "      <td>101</td>\n",
       "    </tr>\n",
       "    <tr>\n",
       "      <th>Equity(62 [ABT])</th>\n",
       "      <td>9</td>\n",
       "      <td>NYS</td>\n",
       "      <td>206</td>\n",
       "    </tr>\n",
       "    <tr>\n",
       "      <th>Equity(64 [GOLD])</th>\n",
       "      <td>9</td>\n",
       "      <td>NYS</td>\n",
       "      <td>101</td>\n",
       "    </tr>\n",
       "    <tr>\n",
       "      <th>Equity(76 [TAP])</th>\n",
       "      <td>9</td>\n",
       "      <td>NYS</td>\n",
       "      <td>205</td>\n",
       "    </tr>\n",
       "    <tr>\n",
       "      <th>Equity(128 [ADM])</th>\n",
       "      <td>9</td>\n",
       "      <td>NYS</td>\n",
       "      <td>205</td>\n",
       "    </tr>\n",
       "  </tbody>\n",
       "</table>\n",
       "</div>"
      ],
      "text/plain": [
       "                                             dollar_volume_decile exchange  \\\n",
       "2015-05-05 00:00:00+00:00 Equity(2 [ARNC])                      9      NYS   \n",
       "                          Equity(62 [ABT])                      9      NYS   \n",
       "                          Equity(64 [GOLD])                     9      NYS   \n",
       "                          Equity(76 [TAP])                      9      NYS   \n",
       "                          Equity(128 [ADM])                     9      NYS   \n",
       "\n",
       "                                             sector_code  \n",
       "2015-05-05 00:00:00+00:00 Equity(2 [ARNC])           101  \n",
       "                          Equity(62 [ABT])           206  \n",
       "                          Equity(64 [GOLD])          101  \n",
       "                          Equity(76 [TAP])           205  \n",
       "                          Equity(128 [ADM])          205  "
      ]
     },
     "execution_count": 3,
     "metadata": {},
     "output_type": "execute_result"
    }
   ],
   "source": [
    "result = run_pipeline(make_pipeline(), '2015-05-05', '2015-05-05')\n",
    "print('Number of securities that passed the filter: %d' % len(result))\n",
    "result.head()"
   ]
  },
  {
   "cell_type": "code",
   "execution_count": 4,
   "metadata": {},
   "outputs": [],
   "source": [
    "sector_codes = sorted(result['sector_code'].unique())"
   ]
  },
  {
   "cell_type": "code",
   "execution_count": 5,
   "metadata": {},
   "outputs": [],
   "source": [
    "sectors = ['Basic Materials', 'Consumer Cyclical', 'Financial', 'Real Estate', 'Consumer Staples',\n",
    "          'Healthcare', 'Utilities', 'Communications', 'Energy', 'Industrial', 'Technology']"
   ]
  },
  {
   "cell_type": "code",
   "execution_count": 6,
   "metadata": {},
   "outputs": [],
   "source": [
    "sector_dict = dict(zip(sector_codes,sectors))"
   ]
  },
  {
   "cell_type": "code",
   "execution_count": 7,
   "metadata": {},
   "outputs": [
    {
     "data": {
      "text/plain": [
       "{101: 'Basic Materials',\n",
       " 102: 'Consumer Cyclical',\n",
       " 103: 'Financial',\n",
       " 104: 'Real Estate',\n",
       " 205: 'Consumer Staples',\n",
       " 206: 'Healthcare',\n",
       " 207: 'Utilities',\n",
       " 308: 'Communications',\n",
       " 309: 'Energy',\n",
       " 310: 'Industrial',\n",
       " 311: 'Technology'}"
      ]
     },
     "execution_count": 7,
     "metadata": {},
     "output_type": "execute_result"
    }
   ],
   "source": [
    "sector_dict"
   ]
  },
  {
   "cell_type": "code",
   "execution_count": null,
   "metadata": {},
   "outputs": [],
   "source": []
  }
 ],
 "metadata": {
  "kernelspec": {
   "display_name": "Python 3.5",
   "language": "python",
   "name": "py35"
  },
  "language_info": {
   "codemirror_mode": {
    "name": "ipython",
    "version": 3
   },
   "file_extension": ".py",
   "mimetype": "text/x-python",
   "name": "python",
   "nbconvert_exporter": "python",
   "pygments_lexer": "ipython3",
   "version": "3.5.9"
  }
 },
 "nbformat": 4,
 "nbformat_minor": 2
}
