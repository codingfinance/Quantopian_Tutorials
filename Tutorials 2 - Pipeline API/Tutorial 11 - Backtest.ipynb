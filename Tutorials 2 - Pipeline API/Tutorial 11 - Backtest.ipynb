{
 "cells": [
  {
   "cell_type": "markdown",
   "metadata": {},
   "source": [
    "# Backtest \n",
    "\n",
    "Lets put everything together and back test a strategy in Algorithm API."
   ]
  },
  {
   "cell_type": "markdown",
   "metadata": {},
   "source": [
    "Lets suppose we believe in the following hypothesis\n",
    "\n",
    "- Buys stocks when close price is above 200 Day Moving Average \n",
    "- Sells stocks when close price is below 200 Day Moving Average "
   ]
  },
  {
   "cell_type": "markdown",
   "metadata": {},
   "source": [
    "We can build and backtest the above strategy in Algorithm API. The below code will not work in the jupyter notebook. Run it in the Algorithm API"
   ]
  },
  {
   "cell_type": "code",
   "execution_count": 3,
   "metadata": {},
   "outputs": [],
   "source": [
    "from quantopian.research import run_pipeline"
   ]
  },
  {
   "cell_type": "code",
   "execution_count": 4,
   "metadata": {},
   "outputs": [],
   "source": [
    "from quantopian.pipeline import Pipeline\n",
    "from quantopian.pipeline.data.builtin import USEquityPricing\n",
    "from quantopian.pipeline.filters import QTradableStocksUS\n",
    "from quantopian.pipeline.factors import SimpleMovingAverage"
   ]
  },
  {
   "cell_type": "markdown",
   "metadata": {},
   "source": [
    "First lets build our pipeline."
   ]
  },
  {
   "cell_type": "code",
   "execution_count": 7,
   "metadata": {},
   "outputs": [],
   "source": [
    "def make_pipeline():\n",
    "    \n",
    "    universe = QTradableStocksUS()\n",
    "    \n",
    "    dma_200 = SimpleMovingAverage(\n",
    "    \n",
    "        inputs = [USEquityPricing.close],\n",
    "        window_length = 200,\n",
    "        mask = universe\n",
    "    )\n",
    "    \n",
    "    close = USEquityPricing.close.latest\n",
    "    \n",
    "    longs = close > dma_200\n",
    "    \n",
    "    shorts = close < dma_200\n",
    "    \n",
    "    securities_to_trade = (longs | shorts)\n",
    "    \n",
    "    return Pipeline(\n",
    "        columns={\n",
    "            'longs': longs,\n",
    "            'shorts': shorts\n",
    "        },\n",
    "        screen=(securities_to_trade),\n",
    "    )"
   ]
  },
  {
   "cell_type": "code",
   "execution_count": 10,
   "metadata": {
    "scrolled": true
   },
   "outputs": [
    {
     "data": {
      "application/vnd.jupyter.widget-view+json": {
       "model_id": "",
       "version_major": 2,
       "version_minor": 0
      },
      "text/plain": []
     },
     "metadata": {},
     "output_type": "display_data"
    },
    {
     "data": {
      "text/html": [
       "<b>Pipeline Execution Time:</b> 0.63 Seconds"
      ],
      "text/plain": [
       "<IPython.core.display.HTML object>"
      ]
     },
     "metadata": {},
     "output_type": "display_data"
    },
    {
     "data": {
      "text/html": [
       "<div>\n",
       "<table border=\"1\" class=\"dataframe\">\n",
       "  <thead>\n",
       "    <tr style=\"text-align: right;\">\n",
       "      <th></th>\n",
       "      <th></th>\n",
       "      <th>longs</th>\n",
       "      <th>shorts</th>\n",
       "    </tr>\n",
       "  </thead>\n",
       "  <tbody>\n",
       "    <tr>\n",
       "      <th rowspan=\"5\" valign=\"top\">2016-01-11 00:00:00+00:00</th>\n",
       "      <th>Equity(2 [ARNC])</th>\n",
       "      <td>False</td>\n",
       "      <td>True</td>\n",
       "    </tr>\n",
       "    <tr>\n",
       "      <th>Equity(24 [AAPL])</th>\n",
       "      <td>False</td>\n",
       "      <td>True</td>\n",
       "    </tr>\n",
       "    <tr>\n",
       "      <th>Equity(31 [ABAX])</th>\n",
       "      <td>False</td>\n",
       "      <td>True</td>\n",
       "    </tr>\n",
       "    <tr>\n",
       "      <th>Equity(39 [DDC])</th>\n",
       "      <td>False</td>\n",
       "      <td>True</td>\n",
       "    </tr>\n",
       "    <tr>\n",
       "      <th>Equity(41 [ARCB])</th>\n",
       "      <td>False</td>\n",
       "      <td>True</td>\n",
       "    </tr>\n",
       "  </tbody>\n",
       "</table>\n",
       "</div>"
      ],
      "text/plain": [
       "                                             longs shorts\n",
       "2016-01-11 00:00:00+00:00 Equity(2 [ARNC])   False   True\n",
       "                          Equity(24 [AAPL])  False   True\n",
       "                          Equity(31 [ABAX])  False   True\n",
       "                          Equity(39 [DDC])   False   True\n",
       "                          Equity(41 [ARCB])  False   True"
      ]
     },
     "execution_count": 10,
     "metadata": {},
     "output_type": "execute_result"
    }
   ],
   "source": [
    "output = run_pipeline(make_pipeline(),\n",
    "                     '2016-1-11',\n",
    "                     '2016-1-11')\n",
    "\n",
    "output.head()"
   ]
  },
  {
   "cell_type": "code",
   "execution_count": 11,
   "metadata": {},
   "outputs": [
    {
     "data": {
      "text/plain": [
       "2093"
      ]
     },
     "execution_count": 11,
     "metadata": {},
     "output_type": "execute_result"
    }
   ],
   "source": [
    "len(output)"
   ]
  },
  {
   "cell_type": "markdown",
   "metadata": {},
   "source": [
    "We get a list long and short stocks. The list has 2093 stocks."
   ]
  },
  {
   "cell_type": "markdown",
   "metadata": {},
   "source": [
    "Now lets write the entire code."
   ]
  },
  {
   "cell_type": "code",
   "execution_count": null,
   "metadata": {},
   "outputs": [],
   "source": [
    "# import algorithm libraries\n",
    "from quantopian.algorithm import attach_pipeline, pipeline_output\n",
    "from quantopian.algorithm import order_optimal_portfolio\n",
    "import quantopian.optimize as opt\n",
    "\n",
    "# Research libraries\n",
    "from quantopian.pipeline import Pipeline\n",
    "from quantopian.pipeline.data.builtin import USEquityPricing\n",
    "from quantopian.pipeline.filters import QTradableStocksUS\n",
    "from quantopian.pipeline.factors import SimpleMovingAverage\n",
    "\n",
    "\n",
    "def initialize(context):\n",
    "    \n",
    "    schedule_function(\n",
    "    \n",
    "        rebalance,\n",
    "        date_rules.week_start(),\n",
    "        time_rules.market_open()\n",
    "    )\n",
    "    \n",
    "    attach_pipeline(make_pipeline(), 'my_pipeline')\n",
    "    \n",
    "def make_pipeline():\n",
    "    \n",
    "    universe = QTradableStocksUS()\n",
    "    \n",
    "    dma_200 = SimpleMovingAverage(\n",
    "    \n",
    "        inputs = [USEquityPricing.close],\n",
    "        window_length = 200,\n",
    "        mask = universe\n",
    "    )\n",
    "    \n",
    "    close = USEquityPricing.close.latest\n",
    "    \n",
    "    longs = close > dma_200\n",
    "    \n",
    "    shorts = close < dma_200\n",
    "    \n",
    "    securities_to_trade = (longs | shorts)\n",
    "    \n",
    "    return Pipeline(\n",
    "        columns={\n",
    "            'longs': longs,\n",
    "            'shorts': shorts\n",
    "        },\n",
    "        screen=(securities_to_trade),\n",
    "    )\n",
    "\n",
    "def before_trading_start(context,data):\n",
    "    \n",
    "    pipe_results = pipeline_output('my_pipeline')\n",
    "    \n",
    "    context.longs = []\n",
    "    \n",
    "    for sec in pipe_results[pipe_results['longs']].index.tolist():\n",
    "        \n",
    "        if data.can_trade(sec):\n",
    "            context.longs.append(sec)\n",
    "    \n",
    "    context.shorts = []\n",
    "    \n",
    "    for sec in pipe_results[pipe_results['shorts']].index.tolist():\n",
    "        \n",
    "        if data.can_trade(sec):\n",
    "            context.shorts.append(sec)\n",
    "\n",
    "def compute_target_weight(context,data):\n",
    "    \n",
    "    weights = {}\n",
    "    \n",
    "    # If there are securities in the long/short list\n",
    "    # compute the target weight\n",
    "    if context.longs and context.short:\n",
    "        \n",
    "        long_weight = 0.5 / len(context.longs)\n",
    "        short_weight = -0.5 / len(context.shorts)\n",
    "    else:\n",
    "        return weights\n",
    "    \n",
    "    for security in context.portfolio.positions:\n",
    "        \n",
    "        if security not in context.longs and security not in context.shorts and data.can_trade(security):\n",
    "            weights[security] = 0\n",
    "            \n",
    "    for security in context.longs:\n",
    "        \n",
    "        weights[security] = long_weight\n",
    "        \n",
    "    for security in context.shorts:\n",
    "        \n",
    "        weights[security] = short_weight\n",
    "        \n",
    "    return weights\n",
    "\n",
    "def rebalance(context,data):\n",
    "    \n",
    "    target_weights = compute_target_weight(context,data)\n",
    "    \n",
    "    if target_weights:\n",
    "        order_optimal_portfolio(\n",
    "        \n",
    "            objective = TargetWeights(target_weights),\n",
    "            constraints = []\n",
    "        )\n",
    "    \n",
    "    "
   ]
  }
 ],
 "metadata": {
  "kernelspec": {
   "display_name": "Python 3.5",
   "language": "python",
   "name": "py35"
  },
  "language_info": {
   "codemirror_mode": {
    "name": "ipython",
    "version": 3
   },
   "file_extension": ".py",
   "mimetype": "text/x-python",
   "name": "python",
   "nbconvert_exporter": "python",
   "pygments_lexer": "ipython3",
   "version": "3.5.9"
  }
 },
 "nbformat": 4,
 "nbformat_minor": 2
}
